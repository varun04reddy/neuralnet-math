{
 "cells": [
  {
   "cell_type": "code",
   "execution_count": 14,
   "metadata": {},
   "outputs": [],
   "source": [
    "from dotenv import load_dotenv\n",
    "import os\n",
    "load_dotenv()\n",
    "hf_token = os.getenv(\"HUGGINGFACE_TOKEN\")\n",
    "import csv\n",
    "import random\n",
    "from typing import List, Tuple\n",
    "from __future__ import annotations"
   ]
  },
  {
   "cell_type": "markdown",
   "metadata": {},
   "source": [
    "### Generate the Math Data"
   ]
  },
  {
   "cell_type": "code",
   "execution_count": 15,
   "metadata": {},
   "outputs": [],
   "source": [
    "_OPERATIONS: tuple[str, ...] = ('+', '-', '*', '/')   \n",
    "\n",
    "\n",
    "def generate_arithmetic_data(num_samples: int) -> List[Tuple[int, str, int, str, int]]:\n",
    "    \"\"\"Return a list of 5-tuples: (x, op, y, '=', z).\"\"\"\n",
    "    rng = random.Random()\n",
    "    equations: List[Tuple[int, str, int, str, int]] = []\n",
    "\n",
    "    for _ in range(num_samples):\n",
    "        x, y = rng.randint(1, 100), rng.randint(1, 100)\n",
    "        op = rng.choice(_OPERATIONS)\n",
    "\n",
    "        if op == '+':\n",
    "            z = x + y\n",
    "        elif op == '-':\n",
    "            z = x - y\n",
    "        elif op == '*':\n",
    "            z = x * y\n",
    "        else:                                   # safe integer division\n",
    "            while y == 0 or x % y != 0:\n",
    "                y = rng.randint(1, 100)\n",
    "            z = x // y\n",
    "\n",
    "        equations.append((x, op, y, '=', z))\n",
    "\n",
    "    return equations\n"
   ]
  },
  {
   "cell_type": "markdown",
   "metadata": {},
   "source": [
    "### Encode the operator"
   ]
  },
  {
   "cell_type": "code",
   "execution_count": 16,
   "metadata": {},
   "outputs": [],
   "source": [
    "def write_to_csv(equations: List[Tuple[int, str, int, str, int]], filename: str) -> None:\n",
    "    \"\"\"Write one equation per row: x, operator, y, '=', z.\"\"\"\n",
    "    with open(filename, mode='w', newline='', encoding='utf-8') as fh:\n",
    "        writer = csv.writer(fh)\n",
    "        writer.writerow(['x', 'operator', 'y', '=', 'z'])  # header\n",
    "        writer.writerows(equations)      "
   ]
  },
  {
   "cell_type": "code",
   "execution_count": 37,
   "metadata": {},
   "outputs": [],
   "source": [
    "rows = generate_arithmetic_data(100000)\n",
    "\n",
    "write_to_csv(rows, 'arithmetic_data.csv')"
   ]
  },
  {
   "cell_type": "markdown",
   "metadata": {},
   "source": []
  }
 ],
 "metadata": {
  "kernelspec": {
   "display_name": "venv",
   "language": "python",
   "name": "python3"
  },
  "language_info": {
   "codemirror_mode": {
    "name": "ipython",
    "version": 3
   },
   "file_extension": ".py",
   "mimetype": "text/x-python",
   "name": "python",
   "nbconvert_exporter": "python",
   "pygments_lexer": "ipython3",
   "version": "3.13.1"
  }
 },
 "nbformat": 4,
 "nbformat_minor": 2
}
