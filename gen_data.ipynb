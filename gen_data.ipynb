{
 "cells": [
  {
   "cell_type": "code",
   "execution_count": 5,
   "metadata": {},
   "outputs": [],
   "source": [
    "from dotenv import load_dotenv\n",
    "import os\n",
    "load_dotenv()\n",
    "hf_token = os.getenv(\"HUGGINGFACE_TOKEN\")\n",
    "import csv\n"
   ]
  },
  {
   "cell_type": "code",
   "execution_count": 9,
   "metadata": {},
   "outputs": [],
   "source": [
    "import random\n",
    "import csv\n",
    "\n",
    "def generate_arithmetic_data(num_samples):\n",
    "    data = []\n",
    "    operations = ['+', '-', '*', '/']\n",
    "    \n",
    "    for _ in range(num_samples):\n",
    "        x = random.randint(1, 100)\n",
    "        y = random.randint(1, 100)\n",
    "        operation = random.choice(operations)\n",
    "        \n",
    "        if operation == '+':\n",
    "            z = x + y\n",
    "        elif operation == '-':\n",
    "            z = x - y\n",
    "        elif operation == '*':\n",
    "            z = x * y\n",
    "        elif operation == '/':\n",
    "            # Ensure y is not zero and x is divisible by y\n",
    "            while y == 0 or x % y != 0:\n",
    "                y = random.randint(1, 100)\n",
    "            z = x // y\n",
    "        \n",
    "        equation = f\"{x} {operation} {y} = {z}\"\n",
    "        data.append([equation])\n",
    "    \n",
    "    return data\n",
    "\n",
    "def write_to_csv(data, filename):\n",
    "    with open(filename, 'w', newline='') as csvfile:\n",
    "        writer = csv.writer(csvfile)\n",
    "        writer.writerow(['equation'])  # Header\n",
    "        writer.writerows(data)\n",
    "\n",
    "# Example usage\n",
    "num_samples = 20\n",
    "arithmetic_data = generate_arithmetic_data(num_samples)\n",
    "write_to_csv(arithmetic_data, 'arithmetic_data.csv')"
   ]
  },
  {
   "cell_type": "code",
   "execution_count": null,
   "metadata": {},
   "outputs": [],
   "source": []
  }
 ],
 "metadata": {
  "kernelspec": {
   "display_name": "venv",
   "language": "python",
   "name": "python3"
  },
  "language_info": {
   "codemirror_mode": {
    "name": "ipython",
    "version": 3
   },
   "file_extension": ".py",
   "mimetype": "text/x-python",
   "name": "python",
   "nbconvert_exporter": "python",
   "pygments_lexer": "ipython3",
   "version": "3.13.1"
  }
 },
 "nbformat": 4,
 "nbformat_minor": 2
}
